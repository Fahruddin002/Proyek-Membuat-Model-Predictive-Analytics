{
  "nbformat": 4,
  "nbformat_minor": 0,
  "metadata": {
    "colab": {
      "provenance": []
    },
    "kernelspec": {
      "name": "python3",
      "display_name": "Python 3"
    },
    "language_info": {
      "name": "python"
    }
  },
  "cells": [
    {
      "cell_type": "markdown",
      "source": [
        "# Proyek Prediksi Kanker Payudara\n",
        "Notebook ini membangun model klasifikasi untuk memprediksi apakah seorang pasien menderita kanker payudara ganas (Malignant) atau jinak (Benign) menggunakan dataset Breast Cancer Wisconsin."
      ],
      "metadata": {
        "id": "XsB4V1vWhUCY"
      }
    },
    {
      "cell_type": "markdown",
      "source": [
        "## ==========================\n",
        "## 🧾 Import Library\n",
        "## ==========================\n",
        "\n",
        "Ini adalah bagian untuk mengimpor semua pustaka Python yang dibutuhkan untuk proyek ini. Pustaka-pustaka ini mencakup alat untuk manipulasi data (pandas, numpy), visualisasi (seaborn, matplotlib), machine learning (sklearn), penanganan ketidakseimbangan kelas (imblearn), dan penyimpanan model (joblib)."
      ],
      "metadata": {
        "id": "OYZHUcTWEAyg"
      }
    },
    {
      "cell_type": "code",
      "source": [
        "import numpy as np\n",
        "import pandas as pd\n",
        "import seaborn as sns\n",
        "import matplotlib.pyplot as plt\n",
        "import os\n",
        "import zipfile\n",
        "import joblib\n",
        "\n",
        "from sklearn.model_selection import train_test_split\n",
        "from sklearn.preprocessing import StandardScaler\n",
        "from sklearn.metrics import classification_report, confusion_matrix, accuracy_score, precision_score, recall_score, f1_score\n",
        "from sklearn.linear_model import LogisticRegression\n",
        "from imblearn.over_sampling import SMOTE\n",
        "from google.colab import files"
      ],
      "metadata": {
        "id": "WRsseJ-4kEQS"
      },
      "execution_count": null,
      "outputs": []
    },
    {
      "cell_type": "markdown",
      "source": [
        "## ==========================\n",
        "## 📥 Upload dan Load Dataset dari Kaggle\n",
        "## ==========================\n",
        "\n",
        "Pada tahap ini, kita mengunggah dataset dari Kaggle ke Google Colab dan membacanya menggunakan `pandas`. Dataset yang digunakan adalah *Breast Cancer Wisconsin (Diagnostic)*, yang merupakan dataset standar dalam masalah klasifikasi kanker payudara."
      ],
      "metadata": {
        "id": "iDxJY55eEQdt"
      }
    },
    {
      "cell_type": "code",
      "source": [
        "# Upload dataset\n",
        "uploaded = files.upload()"
      ],
      "metadata": {
        "colab": {
          "base_uri": "https://localhost:8080/",
          "height": 73
        },
        "id": "5NjKnFNAhefT",
        "outputId": "5cfb2404-91d8-4ec4-a89f-97214f3d9bcc"
      },
      "execution_count": null,
      "outputs": [
        {
          "output_type": "display_data",
          "data": {
            "text/plain": [
              "<IPython.core.display.HTML object>"
            ],
            "text/html": [
              "\n",
              "     <input type=\"file\" id=\"files-4d846e78-f376-44dc-92cc-b65b4c30b959\" name=\"files[]\" multiple disabled\n",
              "        style=\"border:none\" />\n",
              "     <output id=\"result-4d846e78-f376-44dc-92cc-b65b4c30b959\">\n",
              "      Upload widget is only available when the cell has been executed in the\n",
              "      current browser session. Please rerun this cell to enable.\n",
              "      </output>\n",
              "      <script>// Copyright 2017 Google LLC\n",
              "//\n",
              "// Licensed under the Apache License, Version 2.0 (the \"License\");\n",
              "// you may not use this file except in compliance with the License.\n",
              "// You may obtain a copy of the License at\n",
              "//\n",
              "//      http://www.apache.org/licenses/LICENSE-2.0\n",
              "//\n",
              "// Unless required by applicable law or agreed to in writing, software\n",
              "// distributed under the License is distributed on an \"AS IS\" BASIS,\n",
              "// WITHOUT WARRANTIES OR CONDITIONS OF ANY KIND, either express or implied.\n",
              "// See the License for the specific language governing permissions and\n",
              "// limitations under the License.\n",
              "\n",
              "/**\n",
              " * @fileoverview Helpers for google.colab Python module.\n",
              " */\n",
              "(function(scope) {\n",
              "function span(text, styleAttributes = {}) {\n",
              "  const element = document.createElement('span');\n",
              "  element.textContent = text;\n",
              "  for (const key of Object.keys(styleAttributes)) {\n",
              "    element.style[key] = styleAttributes[key];\n",
              "  }\n",
              "  return element;\n",
              "}\n",
              "\n",
              "// Max number of bytes which will be uploaded at a time.\n",
              "const MAX_PAYLOAD_SIZE = 100 * 1024;\n",
              "\n",
              "function _uploadFiles(inputId, outputId) {\n",
              "  const steps = uploadFilesStep(inputId, outputId);\n",
              "  const outputElement = document.getElementById(outputId);\n",
              "  // Cache steps on the outputElement to make it available for the next call\n",
              "  // to uploadFilesContinue from Python.\n",
              "  outputElement.steps = steps;\n",
              "\n",
              "  return _uploadFilesContinue(outputId);\n",
              "}\n",
              "\n",
              "// This is roughly an async generator (not supported in the browser yet),\n",
              "// where there are multiple asynchronous steps and the Python side is going\n",
              "// to poll for completion of each step.\n",
              "// This uses a Promise to block the python side on completion of each step,\n",
              "// then passes the result of the previous step as the input to the next step.\n",
              "function _uploadFilesContinue(outputId) {\n",
              "  const outputElement = document.getElementById(outputId);\n",
              "  const steps = outputElement.steps;\n",
              "\n",
              "  const next = steps.next(outputElement.lastPromiseValue);\n",
              "  return Promise.resolve(next.value.promise).then((value) => {\n",
              "    // Cache the last promise value to make it available to the next\n",
              "    // step of the generator.\n",
              "    outputElement.lastPromiseValue = value;\n",
              "    return next.value.response;\n",
              "  });\n",
              "}\n",
              "\n",
              "/**\n",
              " * Generator function which is called between each async step of the upload\n",
              " * process.\n",
              " * @param {string} inputId Element ID of the input file picker element.\n",
              " * @param {string} outputId Element ID of the output display.\n",
              " * @return {!Iterable<!Object>} Iterable of next steps.\n",
              " */\n",
              "function* uploadFilesStep(inputId, outputId) {\n",
              "  const inputElement = document.getElementById(inputId);\n",
              "  inputElement.disabled = false;\n",
              "\n",
              "  const outputElement = document.getElementById(outputId);\n",
              "  outputElement.innerHTML = '';\n",
              "\n",
              "  const pickedPromise = new Promise((resolve) => {\n",
              "    inputElement.addEventListener('change', (e) => {\n",
              "      resolve(e.target.files);\n",
              "    });\n",
              "  });\n",
              "\n",
              "  const cancel = document.createElement('button');\n",
              "  inputElement.parentElement.appendChild(cancel);\n",
              "  cancel.textContent = 'Cancel upload';\n",
              "  const cancelPromise = new Promise((resolve) => {\n",
              "    cancel.onclick = () => {\n",
              "      resolve(null);\n",
              "    };\n",
              "  });\n",
              "\n",
              "  // Wait for the user to pick the files.\n",
              "  const files = yield {\n",
              "    promise: Promise.race([pickedPromise, cancelPromise]),\n",
              "    response: {\n",
              "      action: 'starting',\n",
              "    }\n",
              "  };\n",
              "\n",
              "  cancel.remove();\n",
              "\n",
              "  // Disable the input element since further picks are not allowed.\n",
              "  inputElement.disabled = true;\n",
              "\n",
              "  if (!files) {\n",
              "    return {\n",
              "      response: {\n",
              "        action: 'complete',\n",
              "      }\n",
              "    };\n",
              "  }\n",
              "\n",
              "  for (const file of files) {\n",
              "    const li = document.createElement('li');\n",
              "    li.append(span(file.name, {fontWeight: 'bold'}));\n",
              "    li.append(span(\n",
              "        `(${file.type || 'n/a'}) - ${file.size} bytes, ` +\n",
              "        `last modified: ${\n",
              "            file.lastModifiedDate ? file.lastModifiedDate.toLocaleDateString() :\n",
              "                                    'n/a'} - `));\n",
              "    const percent = span('0% done');\n",
              "    li.appendChild(percent);\n",
              "\n",
              "    outputElement.appendChild(li);\n",
              "\n",
              "    const fileDataPromise = new Promise((resolve) => {\n",
              "      const reader = new FileReader();\n",
              "      reader.onload = (e) => {\n",
              "        resolve(e.target.result);\n",
              "      };\n",
              "      reader.readAsArrayBuffer(file);\n",
              "    });\n",
              "    // Wait for the data to be ready.\n",
              "    let fileData = yield {\n",
              "      promise: fileDataPromise,\n",
              "      response: {\n",
              "        action: 'continue',\n",
              "      }\n",
              "    };\n",
              "\n",
              "    // Use a chunked sending to avoid message size limits. See b/62115660.\n",
              "    let position = 0;\n",
              "    do {\n",
              "      const length = Math.min(fileData.byteLength - position, MAX_PAYLOAD_SIZE);\n",
              "      const chunk = new Uint8Array(fileData, position, length);\n",
              "      position += length;\n",
              "\n",
              "      const base64 = btoa(String.fromCharCode.apply(null, chunk));\n",
              "      yield {\n",
              "        response: {\n",
              "          action: 'append',\n",
              "          file: file.name,\n",
              "          data: base64,\n",
              "        },\n",
              "      };\n",
              "\n",
              "      let percentDone = fileData.byteLength === 0 ?\n",
              "          100 :\n",
              "          Math.round((position / fileData.byteLength) * 100);\n",
              "      percent.textContent = `${percentDone}% done`;\n",
              "\n",
              "    } while (position < fileData.byteLength);\n",
              "  }\n",
              "\n",
              "  // All done.\n",
              "  yield {\n",
              "    response: {\n",
              "      action: 'complete',\n",
              "    }\n",
              "  };\n",
              "}\n",
              "\n",
              "scope.google = scope.google || {};\n",
              "scope.google.colab = scope.google.colab || {};\n",
              "scope.google.colab._files = {\n",
              "  _uploadFiles,\n",
              "  _uploadFilesContinue,\n",
              "};\n",
              "})(self);\n",
              "</script> "
            ]
          },
          "metadata": {}
        },
        {
          "output_type": "stream",
          "name": "stdout",
          "text": [
            "Saving data.csv to data.csv\n"
          ]
        }
      ]
    },
    {
      "cell_type": "markdown",
      "source": [
        "Setelah file diunggah, kita perlu membaca file CSV tersebut ke dalam DataFrame pandas untuk analisis lebih lanjut. Nama file diambil dari daftar kunci yang diunggah."
      ],
      "metadata": {
        "id": "xJD-8XtBQ7BD"
      }
    },
    {
      "cell_type": "code",
      "source": [
        "# Membaca file CSV ke dalam DataFrame\n",
        "filename = list(uploaded.keys())[0]\n",
        "df = pd.read_csv(filename)"
      ],
      "metadata": {
        "id": "Dd3U_tT5heq-"
      },
      "execution_count": null,
      "outputs": []
    },
    {
      "cell_type": "markdown",
      "source": [
        "## ==========================\n",
        "## 🔍 Eksplorasi Data\n",
        "## ==========================\n",
        "Langkah  eksplorasi data (Exploratory Data Analysis/EDA) ini bertujuan memahami struktur data, tipe kolom, serta distribusi label target (`diagnosis`).Ini membantu dalam mengidentifikasi potensi masalah data seperti nilai kosong, tipe data yang tidak sesuai, atau ketidakseimbangan kelas."
      ],
      "metadata": {
        "id": "z5Z2TCmyEYIk"
      }
    },
    {
      "cell_type": "markdown",
      "source": [
        "### Menampilkan 5 Baris Pertama Dataset\n",
        "\n",
        "Kode ini menampilkan 5 baris pertama dari DataFrame untuk mendapatkan gambaran awal tentang data dan kolom-kolomnya."
      ],
      "metadata": {
        "id": "L3XQUuoQRZNN"
      }
    },
    {
      "cell_type": "code",
      "source": [
        "print(\"\\nFirst 5 Rows:\")\n",
        "print(df.head())"
      ],
      "metadata": {
        "colab": {
          "base_uri": "https://localhost:8080/"
        },
        "id": "tPtYalZBhe2y",
        "outputId": "454a7dc5-8c84-4e81-bf07-b9b6f58cc506"
      },
      "execution_count": null,
      "outputs": [
        {
          "output_type": "stream",
          "name": "stdout",
          "text": [
            "\n",
            "First 5 Rows:\n",
            "         id diagnosis  radius_mean  texture_mean  perimeter_mean  area_mean  \\\n",
            "0    842302         M        17.99         10.38          122.80     1001.0   \n",
            "1    842517         M        20.57         17.77          132.90     1326.0   \n",
            "2  84300903         M        19.69         21.25          130.00     1203.0   \n",
            "3  84348301         M        11.42         20.38           77.58      386.1   \n",
            "4  84358402         M        20.29         14.34          135.10     1297.0   \n",
            "\n",
            "   smoothness_mean  compactness_mean  concavity_mean  concave points_mean  \\\n",
            "0          0.11840           0.27760          0.3001              0.14710   \n",
            "1          0.08474           0.07864          0.0869              0.07017   \n",
            "2          0.10960           0.15990          0.1974              0.12790   \n",
            "3          0.14250           0.28390          0.2414              0.10520   \n",
            "4          0.10030           0.13280          0.1980              0.10430   \n",
            "\n",
            "   ...  texture_worst  perimeter_worst  area_worst  smoothness_worst  \\\n",
            "0  ...          17.33           184.60      2019.0            0.1622   \n",
            "1  ...          23.41           158.80      1956.0            0.1238   \n",
            "2  ...          25.53           152.50      1709.0            0.1444   \n",
            "3  ...          26.50            98.87       567.7            0.2098   \n",
            "4  ...          16.67           152.20      1575.0            0.1374   \n",
            "\n",
            "   compactness_worst  concavity_worst  concave points_worst  symmetry_worst  \\\n",
            "0             0.6656           0.7119                0.2654          0.4601   \n",
            "1             0.1866           0.2416                0.1860          0.2750   \n",
            "2             0.4245           0.4504                0.2430          0.3613   \n",
            "3             0.8663           0.6869                0.2575          0.6638   \n",
            "4             0.2050           0.4000                0.1625          0.2364   \n",
            "\n",
            "   fractal_dimension_worst  Unnamed: 32  \n",
            "0                  0.11890          NaN  \n",
            "1                  0.08902          NaN  \n",
            "2                  0.08758          NaN  \n",
            "3                  0.17300          NaN  \n",
            "4                  0.07678          NaN  \n",
            "\n",
            "[5 rows x 33 columns]\n"
          ]
        }
      ]
    },
    {
      "cell_type": "markdown",
      "source": [
        "**Hasil:**  \n",
        "Terlihat bahwa dataset memiliki kolom `id`, `diagnosis`, dan 30 fitur numerik yang berkaitan dengan karakteristik sel kanker payudara. Selain itu, terdapat juga kolom `Unnamed: 32` yang tidak memiliki nama jelas dan akan diperiksa lebih lanjut untuk menentukan apakah kolom tersebut memiliki informasi yang berguna atau dapat dihapus dari dataset.\n"
      ],
      "metadata": {
        "id": "xJdzAd0FRqTp"
      }
    },
    {
      "cell_type": "markdown",
      "source": [
        "### Menampilkan Informasi Umum Dataset\n",
        "\n",
        "Kode ini memberikan ringkasan DataFrame, termasuk jumlah entri non-null untuk setiap kolom dan tipe datanya. Ini penting untuk mendeteksi missing values dan memahami jenis data yang ada."
      ],
      "metadata": {
        "id": "FZuELiTWRvGO"
      }
    },
    {
      "cell_type": "code",
      "source": [
        "print(\"\\nData Info:\")\n",
        "print(df.info())"
      ],
      "metadata": {
        "colab": {
          "base_uri": "https://localhost:8080/"
        },
        "id": "ciKdMQLqhfCm",
        "outputId": "db9d1574-cd73-4a1b-da84-46ec26b71b40"
      },
      "execution_count": null,
      "outputs": [
        {
          "output_type": "stream",
          "name": "stdout",
          "text": [
            "\n",
            "Data Info:\n",
            "<class 'pandas.core.frame.DataFrame'>\n",
            "RangeIndex: 569 entries, 0 to 568\n",
            "Data columns (total 33 columns):\n",
            " #   Column                   Non-Null Count  Dtype  \n",
            "---  ------                   --------------  -----  \n",
            " 0   id                       569 non-null    int64  \n",
            " 1   diagnosis                569 non-null    object \n",
            " 2   radius_mean              569 non-null    float64\n",
            " 3   texture_mean             569 non-null    float64\n",
            " 4   perimeter_mean           569 non-null    float64\n",
            " 5   area_mean                569 non-null    float64\n",
            " 6   smoothness_mean          569 non-null    float64\n",
            " 7   compactness_mean         569 non-null    float64\n",
            " 8   concavity_mean           569 non-null    float64\n",
            " 9   concave points_mean      569 non-null    float64\n",
            " 10  symmetry_mean            569 non-null    float64\n",
            " 11  fractal_dimension_mean   569 non-null    float64\n",
            " 12  radius_se                569 non-null    float64\n",
            " 13  texture_se               569 non-null    float64\n",
            " 14  perimeter_se             569 non-null    float64\n",
            " 15  area_se                  569 non-null    float64\n",
            " 16  smoothness_se            569 non-null    float64\n",
            " 17  compactness_se           569 non-null    float64\n",
            " 18  concavity_se             569 non-null    float64\n",
            " 19  concave points_se        569 non-null    float64\n",
            " 20  symmetry_se              569 non-null    float64\n",
            " 21  fractal_dimension_se     569 non-null    float64\n",
            " 22  radius_worst             569 non-null    float64\n",
            " 23  texture_worst            569 non-null    float64\n",
            " 24  perimeter_worst          569 non-null    float64\n",
            " 25  area_worst               569 non-null    float64\n",
            " 26  smoothness_worst         569 non-null    float64\n",
            " 27  compactness_worst        569 non-null    float64\n",
            " 28  concavity_worst          569 non-null    float64\n",
            " 29  concave points_worst     569 non-null    float64\n",
            " 30  symmetry_worst           569 non-null    float64\n",
            " 31  fractal_dimension_worst  569 non-null    float64\n",
            " 32  Unnamed: 32              0 non-null      float64\n",
            "dtypes: float64(31), int64(1), object(1)\n",
            "memory usage: 146.8+ KB\n",
            "None\n"
          ]
        }
      ]
    },
    {
      "cell_type": "markdown",
      "source": [
        "**Hasil:**  \n",
        "Terungkap bahwa dataset terdiri dari 569 entri. Kolom `Unnamed: 32` memiliki 0 nilai non-null, yang menunjukkan bahwa kolom ini sepenuhnya kosong (NaN) dan tidak menyumbang informasi apapun. Kolom `id` bertipe integer dan `diagnosis` bertipe object (string), sementara ke-30 fitur lainnya bertipe float. Penemuan kolom kosong ini menunjukkan perlunya dilakukan tahap pembersihan data sebelum analisis lebih lanjut.\n"
      ],
      "metadata": {
        "id": "wWsrXnsGRzJc"
      }
    },
    {
      "cell_type": "markdown",
      "source": [
        "#### Menampilkan Distribusi Label Target (diagnosis)\n",
        "\n",
        "**Proses:**  \n",
        "Kode ini menghitung dan menampilkan jumlah kemunculan setiap nilai unik dalam kolom `diagnosis`. Nilai-nilai ini merepresentasikan dua kelas target dalam dataset: 'M' untuk *Malignant* (ganas) dan 'B' untuk *Benign* (jinak).\n",
        "\n",
        "**Tujuan:**  \n",
        "Untuk memahami distribusi kelas target. Informasi ini penting untuk mengidentifikasi apakah terdapat ketidakseimbangan kelas (class imbalance), yang dapat mempengaruhi performa dan strategi pelatihan model. Dalam konteks ini, distribusi label yang tidak seimbang dapat menyebabkan model bias terhadap kelas mayoritas."
      ],
      "metadata": {
        "id": "MctpO5Q0R4hS"
      }
    },
    {
      "cell_type": "code",
      "source": [
        "print(\"\\nDiagnosis Distribution:\")\n",
        "print(df['diagnosis'].value_counts())"
      ],
      "metadata": {
        "colab": {
          "base_uri": "https://localhost:8080/"
        },
        "id": "E6-MP85fhfOt",
        "outputId": "5d7d38ec-d21e-4924-a286-a2f68fe29499"
      },
      "execution_count": null,
      "outputs": [
        {
          "output_type": "stream",
          "name": "stdout",
          "text": [
            "\n",
            "Diagnosis Distribution:\n",
            "diagnosis\n",
            "B    357\n",
            "M    212\n",
            "Name: count, dtype: int64\n"
          ]
        }
      ]
    },
    {
      "cell_type": "markdown",
      "source": [
        "**Hasil:**  \n",
        "Distribusi diagnosis menunjukkan bahwa terdapat 357 kasus *Benign* ('B') dan 212 kasus *Malignant* ('M'). Hal ini mengonfirmasi adanya ketidakseimbangan kelas, di mana kelas *Benign* (mayoritas) memiliki lebih banyak sampel dibandingkan kelas *Malignant* (minoritas).  \n",
        "Ketidakseimbangan ini penting untuk diperhatikan karena dapat menyebabkan model bias terhadap kelas mayoritas. Oleh karena itu, perlu diterapkan strategi penanganan seperti oversampling (misalnya SMOTE) untuk memastikan model dapat belajar secara adil dari kedua kelas."
      ],
      "metadata": {
        "id": "sGN-SwTqSAAX"
      }
    },
    {
      "cell_type": "markdown",
      "source": [
        "### Visualisasi Distribusi Target\n",
        "\n",
        "Kode ini membuat grafik batang (countplot) untuk memvisualisasikan distribusi label target. Visualisasi ini memudahkan pemahaman tentang proporsi masing-masing kelas."
      ],
      "metadata": {
        "id": "3LmrWr3KSCt9"
      }
    },
    {
      "cell_type": "code",
      "source": [
        "# 📊 Visualisasi Distribusi Target\n",
        "sns.countplot(x='diagnosis', data=df)\n",
        "plt.title('Distribusi Diagnosis (M = Malignant, B = Benign)')\n",
        "plt.show()"
      ],
      "metadata": {
        "colab": {
          "base_uri": "https://localhost:8080/",
          "height": 472
        },
        "id": "WtkjVZD0hfzB",
        "outputId": "1bf8978c-6146-4d0f-c967-f7c01dddb784"
      },
      "execution_count": null,
      "outputs": [
        {
          "output_type": "display_data",
          "data": {
            "text/plain": [
              "<Figure size 640x480 with 1 Axes>"
            ],
            "image/png": "[encoded data removed]"
          },
          "metadata": {}
        }
      ]
    },
    {
      "cell_type": "markdown",
      "source": [
        "**Hasil:** Grafik batang secara visual mengonfirmasi bahwa jumlah pasien dengan diagnosis 'Benign' jauh lebih banyak dibandingkan 'Malignant'. Ini memperkuat urgensi penggunaan teknik penanganan *imbalanced data*."
      ],
      "metadata": {
        "id": "wG5z50oJSJCm"
      }
    },
    {
      "cell_type": "markdown",
      "source": [
        "## ==========================\n",
        "## 🧹 Preprocessing Data\n",
        "## ==========================\n",
        "Tahap persiapan data adalah langkah krusial untuk memastikan kualitas dan kesesuaian data untuk proses pemodelan machine learning. Beberapa teknik *data preparation* yang dilakukan dalam proyek ini adalah sebagai berikut, disajikan secara berurutan:"
      ],
      "metadata": {
        "id": "eg9GxjNvm9ZA"
      }
    },
    {
      "cell_type": "markdown",
      "source": [
        "#### 1. Penghapusan Kolom Tidak Perlu dan Penanganan Nilai Kosong (NaN)\n",
        "\n",
        "- **Proses**: Kolom `'Unnamed: 32'` dan `'id'` dihapus dari dataset.\n",
        "- **Alasan**:\n",
        "  - Kolom `'Unnamed: 32'` diketahui mengandung nilai `NaN` (null) di seluruh barisnya berdasarkan eksplorasi data (`df.info()`). Kolom ini tidak memberikan informasi yang berguna untuk prediksi dan dapat mengganggu proses pemodelan.\n",
        "  - Kolom `'id'` adalah pengidentifikasi unik pasien dan tidak relevan sebagai fitur prediktif karena tidak memiliki hubungan prediktif dengan diagnosis.\n",
        "\n",
        "Penghapusan kedua kolom ini bertujuan untuk menyederhanakan data dan menghilangkan *noise* yang dapat memengaruhi kinerja model."
      ],
      "metadata": {
        "id": "QgY28-AtSnal"
      }
    },
    {
      "cell_type": "code",
      "source": [
        "# Bersihkan Kolom Tak Perlu dan Tangani NaN\n",
        "df = df.drop(columns=['Unnamed: 32', 'id'], errors='ignore')"
      ],
      "metadata": {
        "id": "BeGlv_BAl5uS"
      },
      "execution_count": null,
      "outputs": []
    },
    {
      "cell_type": "markdown",
      "source": [
        "#### 2. Pembuatan Fitur dan Label\n",
        "\n",
        "- **Proses**: Dataset dibagi menjadi fitur (`X`) dan label target (`y`). Kolom `'diagnosis'` ditetapkan sebagai label (`y`), sementara semua kolom lainnya menjadi fitur (`X`).\n",
        "- **Alasan**: Pemisahan ini adalah langkah standar dalam machine learning untuk mendefinisikan variabel independen (*fitur*) yang akan digunakan untuk memprediksi variabel dependen (*label*). Model akan dilatih pada `X` untuk memprediksi `y`."
      ],
      "metadata": {
        "id": "Exmfpe6VS-Es"
      }
    },
    {
      "cell_type": "code",
      "source": [
        "# Pisahkan fitur dan target\n",
        "X = df.drop('diagnosis', axis=1)\n",
        "y = df['diagnosis']"
      ],
      "metadata": {
        "id": "2SJ-BUQXhgD5"
      },
      "execution_count": null,
      "outputs": []
    },
    {
      "cell_type": "markdown",
      "source": [
        "#### 3. Encoding Label Target\n",
        "\n",
        "- **Proses**: Label `diagnosis` yang awalnya berupa string (`'M'` untuk *Malignant* dan `'B'` untuk *Benign*) diubah menjadi format numerik. Nilai `'M'` dipetakan menjadi `0` (*Malignant*) dan `'B'` dipetakan menjadi `1` (*Benign*).\n",
        "- **Alasan**: Sebagian besar algoritma machine learning memerlukan input numerik untuk melakukan perhitungan. Oleh karena itu, label kategori perlu dikonversi menjadi representasi numerik.  \n",
        "  Pemetaan ini juga konsisten dengan konvensi umum di mana `0` sering digunakan untuk kelas minoritas atau kelas negatif (dalam kasus ini, *ganas*) dalam konteks masalah klasifikasi biner."
      ],
      "metadata": {
        "id": "d882JFDVTG9N"
      }
    },
    {
      "cell_type": "code",
      "source": [
        "# Label encoding jika diagnosis berupa huruf\n",
        "if y.dtype == 'O':\n",
        "    y = y.map({'M': 0, 'B': 1})"
      ],
      "metadata": {
        "id": "hTFA_YrxhgTs"
      },
      "execution_count": null,
      "outputs": []
    },
    {
      "cell_type": "markdown",
      "source": [
        "#### 4. Normalisasi Fitur\n",
        "\n",
        "- **Proses**: Fitur-fitur dalam `X` dinormalisasi menggunakan `StandardScaler`. `StandardScaler` mengubah distribusi setiap fitur sehingga memiliki rata-rata nol (`0`) dan standar deviasi satu (`1`).\n",
        "- **Alasan**: Normalisasi sangat penting ketika fitur-fitur memiliki skala yang berbeda (misalnya, `radius_mean` memiliki nilai puluhan, sementara `fractal_dimension_mean` memiliki nilai desimal kecil).  \n",
        "  Algoritma seperti *Logistic Regression* (dan banyak algoritma berbasis gradien lainnya) sensitif terhadap skala fitur. Tanpa normalisasi, fitur dengan rentang nilai yang lebih besar dapat mendominasi perhitungan jarak atau bobot, sehingga model mungkin tidak belajar dengan optimal dan proses pelatihan bisa lebih lambat."
      ],
      "metadata": {
        "id": "ateOyttcTQxH"
      }
    },
    {
      "cell_type": "code",
      "source": [
        "# Normalisasi fitur\n",
        "scaler = StandardScaler()\n",
        "X_scaled = scaler.fit_transform(X)"
      ],
      "metadata": {
        "id": "jAzXjQzMhgjR"
      },
      "execution_count": null,
      "outputs": []
    },
    {
      "cell_type": "markdown",
      "source": [
        "#### 5. Pembagian Data Latih dan Uji\n",
        "\n",
        "- **Proses**: Data yang telah diproses (`X_scaled` dan `y`) dibagi menjadi data latih (80%) dan data uji (20%) menggunakan `train_test_split` dengan `random_state=42` untuk reproduktifitas.\n",
        "- **Alasan**: Pembagian data ini memungkinkan kita untuk melatih model pada sebagian data (*data latih*) dan mengevaluasinya pada data yang belum pernah dilihat model sebelumnya (*data uji*).  \n",
        "  Ini adalah cara standar untuk mengestimasi kinerja model pada data baru dan mencegah *overfitting*, di mana model terlalu spesifik terhadap data latih dan tidak mampu melakukan generalisasi dengan baik pada data yang tidak dikenal.  \n",
        "  Penggunaan `random_state=42` memastikan bahwa pembagian data akan selalu sama setiap kali kode dijalankan, sehingga hasil dapat direproduksi secara konsisten."
      ],
      "metadata": {
        "id": "pOXj2kukTZ7L"
      }
    },
    {
      "cell_type": "code",
      "source": [
        "# Split Data (Train/Test)\n",
        "X_train, X_test, y_train, y_test = train_test_split(X_scaled, y, test_size=0.2, random_state=42)"
      ],
      "metadata": {
        "id": "S7ziAxBvj1CH"
      },
      "execution_count": null,
      "outputs": []
    },
    {
      "cell_type": "markdown",
      "source": [
        "## ==========================\n",
        "## 🔄 SMOTE untuk Menangani Kelas Tidak Seimbang\n",
        "## ==========================\n",
        "- **Proses**: Karena distribusi kelas target tidak seimbang (357 *Benign* vs 212 *Malignant*), teknik **Synthetic Minority Over-sampling Technique (SMOTE)** diterapkan pada data latih (`X_train`, `y_train`) untuk menyeimbangkan jumlah sampel di kedua kelas.  \n",
        "  SMOTE menghasilkan sampel sintetis dari kelas minoritas (*Malignant*) berdasarkan tetangga terdekatnya.\n",
        "- **Alasan**: Ketidakseimbangan kelas dapat menyebabkan model bias terhadap kelas mayoritas, menghasilkan akurasi yang tinggi namun kinerja yang buruk pada kelas minoritas.  \n",
        "  Dalam konteks diagnosis kanker, kelas minoritas (*Malignant*) adalah yang paling penting untuk dideteksi.  \n",
        "  Dengan menyeimbangkan data latih menggunakan SMOTE, model memiliki kesempatan yang lebih baik untuk belajar karakteristik kelas minoritas, sehingga menghasilkan kinerja yang lebih *robust* dan tidak bias, terutama dalam hal *recall* pada kelas *Malignant* yang krusial."
      ],
      "metadata": {
        "id": "NQZ06m4AnIXE"
      }
    },
    {
      "cell_type": "code",
      "source": [
        "sm = SMOTE(random_state=42)\n",
        "X_train_sm, y_train_sm = sm.fit_resample(X_train, y_train)"
      ],
      "metadata": {
        "id": "j2MlqDMQk_sW"
      },
      "execution_count": null,
      "outputs": []
    },
    {
      "cell_type": "markdown",
      "source": [
        "## ==========================\n",
        "## 🧠 Pelatihan Model: Logistic Regression\n",
        "## ==========================\n",
        "- **Proses**: Pada bagian ini, kita melatih model klasifikasi **Logistic Regression** dengan menggunakan data latih yang telah diseimbangkan menggunakan SMOTE.\n",
        "- **Alasan**: Logistic Regression merupakan metode dasar namun efektif dalam menyelesaikan masalah klasifikasi biner.  \n",
        "  Model ini sering dijadikan **baseline model** karena memiliki sejumlah keunggulan, antara lain:\n",
        "  - Interpretasi hasil yang sederhana dan mudah dipahami,\n",
        "  - Efisiensi komputasi yang tinggi,\n",
        "  - Kemampuan memberikan probabilitas prediksi, bukan hanya label kelas.  \n",
        "  Dengan menggunakan data yang telah diseimbangkan, model diharapkan mampu belajar dengan lebih adil dari kedua kelas (Malignant dan Benign)."
      ],
      "metadata": {
        "id": "kGEg6HignMcb"
      }
    },
    {
      "cell_type": "markdown",
      "source": [
        "#### Tahapan dan Parameter yang Digunakan\n",
        "\n",
        "- **Algoritma**: Model yang digunakan adalah **Logistic Regression** dari modul `sklearn.linear_model`.\n",
        "- **Parameter**:\n",
        "  - `max_iter=1000`: Parameter ini mengatur jumlah iterasi maksimum yang diizinkan untuk proses optimisasi model.  \n",
        "    Nilai 1000 dipilih untuk memastikan proses pelatihan memiliki cukup iterasi agar dapat **mencapai konvergensi**, terutama setelah penggunaan teknik SMOTE yang menambahkan jumlah sampel dan dapat memperpanjang waktu yang dibutuhkan model untuk mencapai solusi optimal.\n",
        "- **Tahapan Pelatihan**: Model dilatih menggunakan data latih yang telah diseimbangkan oleh SMOTE, yaitu `X_train_sm` dan `y_train_sm`.  \n",
        "  Pelatihan ini bertujuan agar model belajar dengan representasi data yang seimbang, sehingga mampu mengenali pola pada kedua kelas dengan baik.\n"
      ],
      "metadata": {
        "id": "dfGDLrHoUEml"
      }
    },
    {
      "cell_type": "code",
      "source": [
        "model = LogisticRegression(max_iter=1000)\n",
        "model.fit(X_train_sm, y_train_sm)"
      ],
      "metadata": {
        "colab": {
          "base_uri": "https://localhost:8080/",
          "height": 80
        },
        "id": "NZOKylFSlCn3",
        "outputId": "a7dec5bc-0a5b-4139-c995-932efa938295"
      },
      "execution_count": null,
      "outputs": [
        {
          "output_type": "execute_result",
          "data": {
            "text/plain": [
              "LogisticRegression(max_iter=1000)"
            ],
            "text/html": [
              "<style>#sk-container-id-1 {\n",
              "  /* Definition of color scheme common for light and dark mode */\n",
              "  --sklearn-color-text: #000;\n",
              "  --sklearn-color-text-muted: #666;\n",
              "  --sklearn-color-line: gray;\n",
              "  /* Definition of color scheme for unfitted estimators */\n",
              "  --sklearn-color-unfitted-level-0: #fff5e6;\n",
              "  --sklearn-color-unfitted-level-1: #f6e4d2;\n",
              "  --sklearn-color-unfitted-level-2: #ffe0b3;\n",
              "  --sklearn-color-unfitted-level-3: chocolate;\n",
              "  /* Definition of color scheme for fitted estimators */\n",
              "  --sklearn-color-fitted-level-0: #f0f8ff;\n",
              "  --sklearn-color-fitted-level-1: #d4ebff;\n",
              "  --sklearn-color-fitted-level-2: #b3dbfd;\n",
              "  --sklearn-color-fitted-level-3: cornflowerblue;\n",
              "\n",
              "  /* Specific color for light theme */\n",
              "  --sklearn-color-text-on-default-background: var(--sg-text-color, var(--theme-code-foreground, var(--jp-content-font-color1, black)));\n",
              "  --sklearn-color-background: var(--sg-background-color, var(--theme-background, var(--jp-layout-color0, white)));\n",
              "  --sklearn-color-border-box: var(--sg-text-color, var(--theme-code-foreground, var(--jp-content-font-color1, black)));\n",
              "  --sklearn-color-icon: #696969;\n",
              "\n",
              "  @media (prefers-color-scheme: dark) {\n",
              "    /* Redefinition of color scheme for dark theme */\n",
              "    --sklearn-color-text-on-default-background: var(--sg-text-color, var(--theme-code-foreground, var(--jp-content-font-color1, white)));\n",
              "    --sklearn-color-background: var(--sg-background-color, var(--theme-background, var(--jp-layout-color0, #111)));\n",
              "    --sklearn-color-border-box: var(--sg-text-color, var(--theme-code-foreground, var(--jp-content-font-color1, white)));\n",
              "    --sklearn-color-icon: #878787;\n",
              "  }\n",
              "}\n",
              "\n",
              "#sk-container-id-1 {\n",
              "  color: var(--sklearn-color-text);\n",
              "}\n",
              "\n",
              "#sk-container-id-1 pre {\n",
              "  padding: 0;\n",
              "}\n",
              "\n",
              "#sk-container-id-1 input.sk-hidden--visually {\n",
              "  border: 0;\n",
              "  clip: rect(1px 1px 1px 1px);\n",
              "  clip: rect(1px, 1px, 1px, 1px);\n",
              "  height: 1px;\n",
              "  margin: -1px;\n",
              "  overflow: hidden;\n",
              "  padding: 0;\n",
              "  position: absolute;\n",
              "  width: 1px;\n",
              "}\n",
              "\n",
              "#sk-container-id-1 div.sk-dashed-wrapped {\n",
              "  border: 1px dashed var(--sklearn-color-line);\n",
              "  margin: 0 0.4em 0.5em 0.4em;\n",
              "  box-sizing: border-box;\n",
              "  padding-bottom: 0.4em;\n",
              "  background-color: var(--sklearn-color-background);\n",
              "}\n",
              "\n",
              "#sk-container-id-1 div.sk-container {\n",
              "  /* jupyter's `normalize.less` sets `[hidden] { display: none; }`\n",
              "     but bootstrap.min.css set `[hidden] { display: none !important; }`\n",
              "     so we also need the `!important` here to be able to override the\n",
              "     default hidden behavior on the sphinx rendered scikit-learn.org.\n",
              "     See: https://github.com/scikit-learn/scikit-learn/issues/21755 */\n",
              "  display: inline-block !important;\n",
              "  position: relative;\n",
              "}\n",
              "\n",
              "#sk-container-id-1 div.sk-text-repr-fallback {\n",
              "  display: none;\n",
              "}\n",
              "\n",
              "div.sk-parallel-item,\n",
              "div.sk-serial,\n",
              "div.sk-item {\n",
              "  /* draw centered vertical line to link estimators */\n",
              "  background-image: linear-gradient(var(--sklearn-color-text-on-default-background), var(--sklearn-color-text-on-default-background));\n",
              "  background-size: 2px 100%;\n",
              "  background-repeat: no-repeat;\n",
              "  background-position: center center;\n",
              "}\n",
              "\n",
              "/* Parallel-specific style estimator block */\n",
              "\n",
              "#sk-container-id-1 div.sk-parallel-item::after {\n",
              "  content: \"\";\n",
              "  width: 100%;\n",
              "  border-bottom: 2px solid var(--sklearn-color-text-on-default-background);\n",
              "  flex-grow: 1;\n",
              "}\n",
              "\n",
              "#sk-container-id-1 div.sk-parallel {\n",
              "  display: flex;\n",
              "  align-items: stretch;\n",
              "  justify-content: center;\n",
              "  background-color: var(--sklearn-color-background);\n",
              "  position: relative;\n",
              "}\n",
              "\n",
              "#sk-container-id-1 div.sk-parallel-item {\n",
              "  display: flex;\n",
              "  flex-direction: column;\n",
              "}\n",
              "\n",
              "#sk-container-id-1 div.sk-parallel-item:first-child::after {\n",
              "  align-self: flex-end;\n",
              "  width: 50%;\n",
              "}\n",
              "\n",
              "#sk-container-id-1 div.sk-parallel-item:last-child::after {\n",
              "  align-self: flex-start;\n",
              "  width: 50%;\n",
              "}\n",
              "\n",
              "#sk-container-id-1 div.sk-parallel-item:only-child::after {\n",
              "  width: 0;\n",
              "}\n",
              "\n",
              "/* Serial-specific style estimator block */\n",
              "\n",
              "#sk-container-id-1 div.sk-serial {\n",
              "  display: flex;\n",
              "  flex-direction: column;\n",
              "  align-items: center;\n",
              "  background-color: var(--sklearn-color-background);\n",
              "  padding-right: 1em;\n",
              "  padding-left: 1em;\n",
              "}\n",
              "\n",
              "\n",
              "/* Toggleable style: style used for estimator/Pipeline/ColumnTransformer box that is\n",
              "clickable and can be expanded/collapsed.\n",
              "- Pipeline and ColumnTransformer use this feature and define the default style\n",
              "- Estimators will overwrite some part of the style using the `sk-estimator` class\n",
              "*/\n",
              "\n",
              "/* Pipeline and ColumnTransformer style (default) */\n",
              "\n",
              "#sk-container-id-1 div.sk-toggleable {\n",
              "  /* Default theme specific background. It is overwritten whether we have a\n",
              "  specific estimator or a Pipeline/ColumnTransformer */\n",
              "  background-color: var(--sklearn-color-background);\n",
              "}\n",
              "\n",
              "/* Toggleable label */\n",
              "#sk-container-id-1 label.sk-toggleable__label {\n",
              "  cursor: pointer;\n",
              "  display: flex;\n",
              "  width: 100%;\n",
              "  margin-bottom: 0;\n",
              "  padding: 0.5em;\n",
              "  box-sizing: border-box;\n",
              "  text-align: center;\n",
              "  align-items: start;\n",
              "  justify-content: space-between;\n",
              "  gap: 0.5em;\n",
              "}\n",
              "\n",
              "#sk-container-id-1 label.sk-toggleable__label .caption {\n",
              "  font-size: 0.6rem;\n",
              "  font-weight: lighter;\n",
              "  color: var(--sklearn-color-text-muted);\n",
              "}\n",
              "\n",
              "#sk-container-id-1 label.sk-toggleable__label-arrow:before {\n",
              "  /* Arrow on the left of the label */\n",
              "  content: \"▸\";\n",
              "  float: left;\n",
              "  margin-right: 0.25em;\n",
              "  color: var(--sklearn-color-icon);\n",
              "}\n",
              "\n",
              "#sk-container-id-1 label.sk-toggleable__label-arrow:hover:before {\n",
              "  color: var(--sklearn-color-text);\n",
              "}\n",
              "\n",
              "/* Toggleable content - dropdown */\n",
              "\n",
              "#sk-container-id-1 div.sk-toggleable__content {\n",
              "  max-height: 0;\n",
              "  max-width: 0;\n",
              "  overflow: hidden;\n",
              "  text-align: left;\n",
              "  /* unfitted */\n",
              "  background-color: var(--sklearn-color-unfitted-level-0);\n",
              "}\n",
              "\n",
              "#sk-container-id-1 div.sk-toggleable__content.fitted {\n",
              "  /* fitted */\n",
              "  background-color: var(--sklearn-color-fitted-level-0);\n",
              "}\n",
              "\n",
              "#sk-container-id-1 div.sk-toggleable__content pre {\n",
              "  margin: 0.2em;\n",
              "  border-radius: 0.25em;\n",
              "  color: var(--sklearn-color-text);\n",
              "  /* unfitted */\n",
              "  background-color: var(--sklearn-color-unfitted-level-0);\n",
              "}\n",
              "\n",
              "#sk-container-id-1 div.sk-toggleable__content.fitted pre {\n",
              "  /* unfitted */\n",
              "  background-color: var(--sklearn-color-fitted-level-0);\n",
              "}\n",
              "\n",
              "#sk-container-id-1 input.sk-toggleable__control:checked~div.sk-toggleable__content {\n",
              "  /* Expand drop-down */\n",
              "  max-height: 200px;\n",
              "  max-width: 100%;\n",
              "  overflow: auto;\n",
              "}\n",
              "\n",
              "#sk-container-id-1 input.sk-toggleable__control:checked~label.sk-toggleable__label-arrow:before {\n",
              "  content: \"▾\";\n",
              "}\n",
              "\n",
              "/* Pipeline/ColumnTransformer-specific style */\n",
              "\n",
              "#sk-container-id-1 div.sk-label input.sk-toggleable__control:checked~label.sk-toggleable__label {\n",
              "  color: var(--sklearn-color-text);\n",
              "  background-color: var(--sklearn-color-unfitted-level-2);\n",
              "}\n",
              "\n",
              "#sk-container-id-1 div.sk-label.fitted input.sk-toggleable__control:checked~label.sk-toggleable__label {\n",
              "  background-color: var(--sklearn-color-fitted-level-2);\n",
              "}\n",
              "\n",
              "/* Estimator-specific style */\n",
              "\n",
              "/* Colorize estimator box */\n",
              "#sk-container-id-1 div.sk-estimator input.sk-toggleable__control:checked~label.sk-toggleable__label {\n",
              "  /* unfitted */\n",
              "  background-color: var(--sklearn-color-unfitted-level-2);\n",
              "}\n",
              "\n",
              "#sk-container-id-1 div.sk-estimator.fitted input.sk-toggleable__control:checked~label.sk-toggleable__label {\n",
              "  /* fitted */\n",
              "  background-color: var(--sklearn-color-fitted-level-2);\n",
              "}\n",
              "\n",
              "#sk-container-id-1 div.sk-label label.sk-toggleable__label,\n",
              "#sk-container-id-1 div.sk-label label {\n",
              "  /* The background is the default theme color */\n",
              "  color: var(--sklearn-color-text-on-default-background);\n",
              "}\n",
              "\n",
              "/* On hover, darken the color of the background */\n",
              "#sk-container-id-1 div.sk-label:hover label.sk-toggleable__label {\n",
              "  color: var(--sklearn-color-text);\n",
              "  background-color: var(--sklearn-color-unfitted-level-2);\n",
              "}\n",
              "\n",
              "/* Label box, darken color on hover, fitted */\n",
              "#sk-container-id-1 div.sk-label.fitted:hover label.sk-toggleable__label.fitted {\n",
              "  color: var(--sklearn-color-text);\n",
              "  background-color: var(--sklearn-color-fitted-level-2);\n",
              "}\n",
              "\n",
              "/* Estimator label */\n",
              "\n",
              "#sk-container-id-1 div.sk-label label {\n",
              "  font-family: monospace;\n",
              "  font-weight: bold;\n",
              "  display: inline-block;\n",
              "  line-height: 1.2em;\n",
              "}\n",
              "\n",
              "#sk-container-id-1 div.sk-label-container {\n",
              "  text-align: center;\n",
              "}\n",
              "\n",
              "/* Estimator-specific */\n",
              "#sk-container-id-1 div.sk-estimator {\n",
              "  font-family: monospace;\n",
              "  border: 1px dotted var(--sklearn-color-border-box);\n",
              "  border-radius: 0.25em;\n",
              "  box-sizing: border-box;\n",
              "  margin-bottom: 0.5em;\n",
              "  /* unfitted */\n",
              "  background-color: var(--sklearn-color-unfitted-level-0);\n",
              "}\n",
              "\n",
              "#sk-container-id-1 div.sk-estimator.fitted {\n",
              "  /* fitted */\n",
              "  background-color: var(--sklearn-color-fitted-level-0);\n",
              "}\n",
              "\n",
              "/* on hover */\n",
              "#sk-container-id-1 div.sk-estimator:hover {\n",
              "  /* unfitted */\n",
              "  background-color: var(--sklearn-color-unfitted-level-2);\n",
              "}\n",
              "\n",
              "#sk-container-id-1 div.sk-estimator.fitted:hover {\n",
              "  /* fitted */\n",
              "  background-color: var(--sklearn-color-fitted-level-2);\n",
              "}\n",
              "\n",
              "/* Specification for estimator info (e.g. \"i\" and \"?\") */\n",
              "\n",
              "/* Common style for \"i\" and \"?\" */\n",
              "\n",
              ".sk-estimator-doc-link,\n",
              "a:link.sk-estimator-doc-link,\n",
              "a:visited.sk-estimator-doc-link {\n",
              "  float: right;\n",
              "  font-size: smaller;\n",
              "  line-height: 1em;\n",
              "  font-family: monospace;\n",
              "  background-color: var(--sklearn-color-background);\n",
              "  border-radius: 1em;\n",
              "  height: 1em;\n",
              "  width: 1em;\n",
              "  text-decoration: none !important;\n",
              "  margin-left: 0.5em;\n",
              "  text-align: center;\n",
              "  /* unfitted */\n",
              "  border: var(--sklearn-color-unfitted-level-1) 1pt solid;\n",
              "  color: var(--sklearn-color-unfitted-level-1);\n",
              "}\n",
              "\n",
              ".sk-estimator-doc-link.fitted,\n",
              "a:link.sk-estimator-doc-link.fitted,\n",
              "a:visited.sk-estimator-doc-link.fitted {\n",
              "  /* fitted */\n",
              "  border: var(--sklearn-color-fitted-level-1) 1pt solid;\n",
              "  color: var(--sklearn-color-fitted-level-1);\n",
              "}\n",
              "\n",
              "/* On hover */\n",
              "div.sk-estimator:hover .sk-estimator-doc-link:hover,\n",
              ".sk-estimator-doc-link:hover,\n",
              "div.sk-label-container:hover .sk-estimator-doc-link:hover,\n",
              ".sk-estimator-doc-link:hover {\n",
              "  /* unfitted */\n",
              "  background-color: var(--sklearn-color-unfitted-level-3);\n",
              "  color: var(--sklearn-color-background);\n",
              "  text-decoration: none;\n",
              "}\n",
              "\n",
              "div.sk-estimator.fitted:hover .sk-estimator-doc-link.fitted:hover,\n",
              ".sk-estimator-doc-link.fitted:hover,\n",
              "div.sk-label-container:hover .sk-estimator-doc-link.fitted:hover,\n",
              ".sk-estimator-doc-link.fitted:hover {\n",
              "  /* fitted */\n",
              "  background-color: var(--sklearn-color-fitted-level-3);\n",
              "  color: var(--sklearn-color-background);\n",
              "  text-decoration: none;\n",
              "}\n",
              "\n",
              "/* Span, style for the box shown on hovering the info icon */\n",
              ".sk-estimator-doc-link span {\n",
              "  display: none;\n",
              "  z-index: 9999;\n",
              "  position: relative;\n",
              "  font-weight: normal;\n",
              "  right: .2ex;\n",
              "  padding: .5ex;\n",
              "  margin: .5ex;\n",
              "  width: min-content;\n",
              "  min-width: 20ex;\n",
              "  max-width: 50ex;\n",
              "  color: var(--sklearn-color-text);\n",
              "  box-shadow: 2pt 2pt 4pt #999;\n",
              "  /* unfitted */\n",
              "  background: var(--sklearn-color-unfitted-level-0);\n",
              "  border: .5pt solid var(--sklearn-color-unfitted-level-3);\n",
              "}\n",
              "\n",
              ".sk-estimator-doc-link.fitted span {\n",
              "  /* fitted */\n",
              "  background: var(--sklearn-color-fitted-level-0);\n",
              "  border: var(--sklearn-color-fitted-level-3);\n",
              "}\n",
              "\n",
              ".sk-estimator-doc-link:hover span {\n",
              "  display: block;\n",
              "}\n",
              "\n",
              "/* \"?\"-specific style due to the `<a>` HTML tag */\n",
              "\n",
              "#sk-container-id-1 a.estimator_doc_link {\n",
              "  float: right;\n",
              "  font-size: 1rem;\n",
              "  line-height: 1em;\n",
              "  font-family: monospace;\n",
              "  background-color: var(--sklearn-color-background);\n",
              "  border-radius: 1rem;\n",
              "  height: 1rem;\n",
              "  width: 1rem;\n",
              "  text-decoration: none;\n",
              "  /* unfitted */\n",
              "  color: var(--sklearn-color-unfitted-level-1);\n",
              "  border: var(--sklearn-color-unfitted-level-1) 1pt solid;\n",
              "}\n",
              "\n",
              "#sk-container-id-1 a.estimator_doc_link.fitted {\n",
              "  /* fitted */\n",
              "  border: var(--sklearn-color-fitted-level-1) 1pt solid;\n",
              "  color: var(--sklearn-color-fitted-level-1);\n",
              "}\n",
              "\n",
              "/* On hover */\n",
              "#sk-container-id-1 a.estimator_doc_link:hover {\n",
              "  /* unfitted */\n",
              "  background-color: var(--sklearn-color-unfitted-level-3);\n",
              "  color: var(--sklearn-color-background);\n",
              "  text-decoration: none;\n",
              "}\n",
              "\n",
              "#sk-container-id-1 a.estimator_doc_link.fitted:hover {\n",
              "  /* fitted */\n",
              "  background-color: var(--sklearn-color-fitted-level-3);\n",
              "}\n",
              "</style><div id=\"sk-container-id-1\" class=\"sk-top-container\"><div class=\"sk-text-repr-fallback\"><pre>LogisticRegression(max_iter=1000)</pre><b>In a Jupyter environment, please rerun this cell to show the HTML representation or trust the notebook. <br />On GitHub, the HTML representation is unable to render, please try loading this page with nbviewer.org.</b></div><div class=\"sk-container\" hidden><div class=\"sk-item\"><div class=\"sk-estimator fitted sk-toggleable\"><input class=\"sk-toggleable__control sk-hidden--visually\" id=\"sk-estimator-id-1\" type=\"checkbox\" checked><label for=\"sk-estimator-id-1\" class=\"sk-toggleable__label fitted sk-toggleable__label-arrow\"><div><div>LogisticRegression</div></div><div><a class=\"sk-estimator-doc-link fitted\" rel=\"noreferrer\" target=\"_blank\" href=\"https://scikit-learn.org/1.6/modules/generated/sklearn.linear_model.LogisticRegression.html\">?<span>Documentation for LogisticRegression</span></a><span class=\"sk-estimator-doc-link fitted\">i<span>Fitted</span></span></div></label><div class=\"sk-toggleable__content fitted\"><pre>LogisticRegression(max_iter=1000)</pre></div> </div></div></div></div>"
            ]
          },
          "metadata": {},
          "execution_count": 16
        }
      ]
    },
    {
      "cell_type": "markdown",
      "source": [
        "**Kelebihan dan Kekurangan Algoritma Logistic Regression**\n",
        "\n",
        "**Kelebihan:**\n",
        "- **Sederhana dan Mudah Diinterpretasikan**: Logistic Regression memiliki dasar matematis yang jelas. Koefisien model dapat diinterpretasikan sebagai bobot fitur, yang menunjukkan arah dan kekuatan pengaruh terhadap probabilitas kelas. Ini menjadikannya alat yang baik untuk analisis interpretatif, termasuk dalam konteks medis.\n",
        "- **Efisiensi Komputasi**: Proses pelatihan Logistic Regression sangat cepat, cocok untuk dataset berukuran kecil hingga sedang. Hal ini menjadikannya pilihan ideal sebagai **baseline model**.\n",
        "- **Performa Baik pada Data Linear**: Jika data dapat dipisahkan secara linear, Logistic Regression biasanya mampu memberikan performa yang solid dan dapat diandalkan.\n",
        "- **Memberikan Probabilitas**: Logistic Regression tidak hanya menghasilkan label kelas, tetapi juga probabilitas. Ini berguna untuk pengambilan keputusan berbasis ambang batas tertentu — misalnya, dalam konteks klinis ketika keputusan perlu mempertimbangkan risiko.\n",
        "\n",
        "**Kekurangan:**\n",
        "- **Asumsi Linearitas**: Model ini mengasumsikan hubungan linear antara fitur input dan log-odds dari output. Jika hubungan antara fitur dan target bersifat non-linear, performa model bisa menurun.\n",
        "- **Sensitif terhadap Outlier**: Outlier dapat sangat memengaruhi hasil karena model mencoba meminimalkan fungsi biaya yang sensitif terhadap nilai ekstrem.\n",
        "- **Kurang Efektif untuk Hubungan Kompleks**: Logistic Regression tidak mampu menangkap hubungan non-linear yang kompleks antara fitur dan label, tidak seperti metode seperti Support Vector Machines dengan kernel non-linear atau Neural Networks.\n",
        "\n",
        "---\n",
        "\n",
        "**Proses Improvement (Jika Hanya Menggunakan 1 Algoritma)**\n",
        "\n",
        "Dalam proyek ini, hanya satu algoritma yang digunakan, yaitu **Logistic Regression**, sebagai baseline model. Namun demikian, upaya perbaikan model tetap dilakukan melalui:\n",
        "\n",
        "- **Penanganan Imbalanced Data dengan SMOTE**:\n",
        "  - SMOTE (Synthetic Minority Over-sampling Technique) diterapkan untuk menyeimbangkan distribusi kelas dalam data latih.\n",
        "  - Ketidakseimbangan kelas dapat menyebabkan model bias terhadap kelas mayoritas ('Benign'), sehingga mengabaikan kelas minoritas ('Malignant') yang justru paling krusial untuk dideteksi dalam konteks medis.\n",
        "  - Dengan penggunaan SMOTE, model diberikan peluang yang lebih baik untuk mempelajari karakteristik dari kedua kelas secara seimbang, khususnya untuk meningkatkan **recall** pada kelas 'Malignant', yang berperan penting dalam diagnosis kanker.\n"
      ],
      "metadata": {
        "id": "Q0bnrjeNUVSq"
      }
    },
    {
      "cell_type": "markdown",
      "source": [
        "## ==========================\n",
        "## 📈 Evaluasi Model\n",
        "## ==========================\n",
        "Model diuji terhadap data uji untuk menghitung metrik performa. Evaluasi ini penting untuk memahami seberapa baik model dapat menggeneralisasi pada data yang tidak terlihat sebelumnya."
      ],
      "metadata": {
        "id": "n9orEWYlJnvf"
      }
    },
    {
      "cell_type": "markdown",
      "source": [
        "#### Membuat Prediksi pada Data Uji\n",
        "\n",
        "Setelah model Logistic Regression selesai dilatih menggunakan data latih yang telah diseimbangkan, langkah selanjutnya adalah **menguji kemampuan generalisasi model** terhadap data yang belum pernah dilihat sebelumnya, yaitu data uji (X_test).\n",
        "\n",
        "**Proses:**\n",
        "- Model yang telah dilatih (`model`) digunakan untuk memprediksi label diagnosis pada data uji (`X_test`).\n",
        "- Hasil prediksi disimpan dalam variabel `y_pred`.\n",
        "\n",
        "**Tujuan:**\n",
        "Langkah ini bertujuan untuk mengetahui seberapa baik model mampu mengklasifikasikan data baru dan mengevaluasi performa sebenarnya di luar data pelatihan. Ini sangat penting untuk mengukur efektivitas model dalam konteks dunia nyata, seperti prediksi diagnosis pada pasien baru."
      ],
      "metadata": {
        "id": "XPMImULEVOJW"
      }
    },
    {
      "cell_type": "code",
      "source": [
        "# 📈 Evaluasi Model\n",
        "y_pred = model.predict(X_test)"
      ],
      "metadata": {
        "id": "d6OhDazOlEaB"
      },
      "execution_count": null,
      "outputs": []
    },
    {
      "cell_type": "markdown",
      "source": [
        "#### Menampilkan Confusion Matrix dan Classification Report\n",
        "\n",
        "**Proses**:  \n",
        "Model yang telah dilatih diuji menggunakan data uji (`X_test` dan `y_test`). Kinerja model dievaluasi dengan menampilkan:\n",
        "\n",
        "- **Confusion Matrix** dalam bentuk heatmap.\n",
        "- **Classification Report**, yang mencakup metrik seperti precision, recall, f1-score, dan accuracy untuk masing-masing kelas ('Malignant' dan 'Benign').\n",
        "\n",
        "**Alasan**:  \n",
        "Evaluasi model dengan hanya mengandalkan nilai akurasi bisa menyesatkan, terutama pada dataset yang tidak seimbang. Oleh karena itu:\n",
        "\n",
        "- **Confusion Matrix** memungkinkan kita melihat secara detail jumlah prediksi benar dan salah untuk setiap kelas.\n",
        "- **Classification Report** memberikan metrik yang lebih menyeluruh:\n",
        "  - **Precision**: Seberapa akurat model dalam memprediksi positif (berapa banyak dari yang diprediksi positif benar-benar positif).\n",
        "  - **Recall**: Seberapa baik model menangkap seluruh kasus positif yang sebenarnya (penting dalam konteks diagnosis penyakit serius).\n",
        "  - **F1-score**: Rata-rata harmonis antara precision dan recall.\n",
        "  - **Accuracy**: Persentase prediksi yang benar dari seluruh prediksi.\n",
        "\n"
      ],
      "metadata": {
        "id": "yTzDL5bOWk1N"
      }
    },
    {
      "cell_type": "markdown",
      "source": [
        "**Metrik Evaluasi yang Digunakan**\n",
        "\n",
        "Untuk mengukur kinerja model Logistic Regression dalam memprediksi kanker payudara, beberapa metrik evaluasi klasifikasi yang relevan digunakan:\n",
        "\n",
        "---\n",
        "\n",
        "**1. Confusion Matrix**\n",
        "\n",
        "**Penjelasan**:  \n",
        "Confusion Matrix adalah tabel yang menggambarkan performa model klasifikasi pada data uji dengan label yang diketahui. Matriks ini menunjukkan:\n",
        "\n",
        "- **TP (True Positive)**: Kasus *Benign* yang diprediksi dengan benar sebagai *Benign*.\n",
        "- **TN (True Negative)**: Kasus *Malignant* yang diprediksi dengan benar sebagai *Malignant*.\n",
        "- **FP (False Positive)**: Kasus *Malignant* yang salah diprediksi sebagai *Benign*. Ini disebut **Type I Error**.\n",
        "- **FN (False Negative)**: Kasus *Benign* yang salah diprediksi sebagai *Malignant*. Ini disebut **Type II Error**.\n",
        "\n",
        "**Tujuan**:  \n",
        "Confusion Matrix memberikan gambaran rinci tentang jenis kesalahan yang dilakukan model. Dalam konteks medis, **False Negative** (kasus kanker yang tidak terdeteksi) adalah yang paling berbahaya karena dapat menyebabkan keterlambatan diagnosis dan penanganan.\n",
        "\n",
        "---\n",
        "\n",
        "**2. Accuracy**\n",
        "\n",
        "**Formula**:  \n",
        "$Accuracy = \\frac{TP + TN}{TP + TN + FP + FN}$\n",
        "\n",
        "**Penjelasan**:  \n",
        "Mengukur proporsi total prediksi yang benar dari semua prediksi.\n",
        "\n",
        "**Tujuan**:  \n",
        "Memberikan gambaran umum tentang performa model. Namun, pada dataset yang tidak seimbang, nilai akurasi saja bisa menyesatkan karena model dapat mengabaikan kelas minoritas namun tetap terlihat \"baik\" secara akurasi.\n",
        "\n",
        "---\n",
        "\n",
        "**3. Precision**\n",
        "\n",
        "**Formula**:  \n",
        "$Precision = \\frac{TP}{TP + FP}$\n",
        "\n",
        "**Penjelasan**:  \n",
        "Precision mengukur seberapa banyak dari prediksi positif yang benar-benar benar. Untuk kelas *Malignant* (jika didefinisikan sebagai kelas positif), precision mengindikasikan dari semua prediksi 'Malignant', berapa banyak yang memang benar-benar kanker.\n",
        "\n",
        "**Tujuan**:  \n",
        "Tinggi precision berarti sedikit pasien sehat yang salah didiagnosis sebagai sakit (False Positive). Ini penting untuk menghindari kecemasan atau prosedur medis yang tidak perlu.\n",
        "\n",
        "---\n",
        "\n",
        "**4. Recall (Sensitivity)**\n",
        "\n",
        "**Formula**:  \n",
        "$Recall = \\frac{TP}{TP + FN}$\n",
        "\n",
        "**Penjelasan**:  \n",
        "Recall mengukur seberapa banyak dari kasus positif yang berhasil dideteksi model. Dalam konteks ini, recall untuk kelas *Malignant* menunjukkan seberapa baik model mendeteksi semua kasus kanker yang sebenarnya.\n",
        "\n",
        "**Tujuan**:  \n",
        "Recall sangat penting dalam diagnosis medis. **False Negative** bisa sangat berbahaya, sehingga recall tinggi menunjukkan bahwa model jarang melewatkan kasus kanker.\n",
        "\n",
        "---\n",
        "\n",
        "**5. F1-Score**\n",
        "\n",
        "**Formula**:  \n",
        "$F1 = 2 \\times \\frac{Precision \\times Recall}{Precision + Recall}$\n",
        "\n",
        "**Penjelasan**:  \n",
        "F1-Score adalah rata-rata harmonis dari precision dan recall, memberikan satu skor gabungan untuk mengevaluasi model.\n",
        "\n",
        "**Tujuan**:  \n",
        "F1-Score berguna terutama pada dataset yang tidak seimbang, karena mempertimbangkan keseimbangan antara false positives dan false negatives.\n",
        "\n",
        "---\n",
        "\n",
        "Dengan menggunakan metrik-metrik ini secara bersamaan, kita mendapatkan pemahaman yang lebih komprehensif terhadap performa model dalam mendeteksi kanker payudara secara tepat dan andal."
      ],
      "metadata": {
        "id": "MEINz9kKXEmt"
      }
    },
    {
      "cell_type": "code",
      "source": [
        "# Confusion matrix as heatmap\n",
        "cm = confusion_matrix(y_test, y_pred)\n",
        "plt.figure(figsize=(6,4))\n",
        "sns.heatmap(cm, annot=True, fmt='d', cmap='Blues', xticklabels=['Malignant', 'Benign'], yticklabels=['Malignant', 'Benign'])\n",
        "plt.xlabel('Predicted')\n",
        "plt.ylabel('Actual')\n",
        "plt.title('Confusion Matrix')\n",
        "plt.show()\n",
        "\n",
        "print(\"\\nClassification Report:\")\n",
        "print(classification_report(y_test, y_pred))"
      ],
      "metadata": {
        "colab": {
          "base_uri": "https://localhost:8080/",
          "height": 601
        },
        "id": "GfK8Yb0anWqD",
        "outputId": "c594487f-b0d5-44bb-ccda-faa941097c12"
      },
      "execution_count": null,
      "outputs": [
        {
          "output_type": "display_data",
          "data": {
            "text/plain": [
              "<Figure size 600x400 with 2 Axes>"
            ],
            "image/png": "[encoded data removed]"
          },
          "metadata": {}
        },
        {
          "output_type": "stream",
          "name": "stdout",
          "text": [
            "\n",
            "Classification Report:\n",
            "              precision    recall  f1-score   support\n",
            "\n",
            "           0       0.98      0.98      0.98        43\n",
            "           1       0.99      0.99      0.99        71\n",
            "\n",
            "    accuracy                           0.98       114\n",
            "   macro avg       0.98      0.98      0.98       114\n",
            "weighted avg       0.98      0.98      0.98       114\n",
            "\n"
          ]
        }
      ]
    },
    {
      "cell_type": "markdown",
      "source": [
        "Dari hasil evaluasi yang diperoleh, model **Logistic Regression** menunjukkan performa yang sangat baik dalam mendeteksi kanker payudara:\n",
        "\n",
        "---\n",
        "\n",
        "**Hasil Metrik Evaluasi:**\n",
        "\n",
        "- **Accuracy**: 0.98  \n",
        "  Artinya, 98% dari total prediksi model adalah benar.\n",
        "\n",
        "- **Precision (Malignant, label 0)**: 0.98  \n",
        "  Dari semua prediksi \"Malignant\" oleh model, 98% di antaranya benar-benar merupakan kasus \"Malignant\".\n",
        "\n",
        "- **Recall (Malignant, label 0)**: 0.98  \n",
        "  Dari semua kasus \"Malignant\" yang sebenarnya, model berhasil mendeteksi 98% di antaranya.\n",
        "\n",
        "- **F1-Score (Malignant, label 0)**: 0.98  \n",
        "  Menunjukkan keseimbangan yang sangat baik antara precision dan recall pada kelas kanker ganas.\n",
        "\n",
        "- **Precision (Benign, label 1)**: 0.99  \n",
        "- **Recall (Benign, label 1)**: 0.99  \n",
        "- **F1-Score (Benign, label 1)**: 0.99\n",
        "\n",
        "---\n",
        "\n",
        "**Confusion Matrix:**\n",
        "\n",
        "- **True Negatives (TN)**: Kasus *Malignant* yang berhasil diprediksi dengan benar sebagai *Malignant* (contoh: 42 dari 43 kasus).\n",
        "- **True Positives (TP)**: Kasus *Benign* yang berhasil diprediksi dengan benar sebagai *Benign* (contoh: 70 dari 71 kasus).\n",
        "- **False Positives (FP)**: Kasus *Benign* yang salah diprediksi sebagai *Malignant* (1 kasus).\n",
        "- **False Negatives (FN)**: Kasus *Malignant* yang salah diprediksi sebagai *Benign* (1 kasus).\n",
        "\n",
        "---\n",
        "\n",
        "**Analisis:**\n",
        "\n",
        "Dengan hanya **1 False Negative** dan **1 False Positive**, model menunjukkan **akurasi tinggi dan kesalahan yang sangat minim**. Ini sangat penting mengingat konteks medis dari permasalahan ini.\n",
        "\n",
        "Dalam diagnosis kanker payudara, meminimalkan **False Negatives** (pasien yang memiliki kanker ganas tetapi tidak terdeteksi) adalah prioritas utama karena dapat menunda penanganan yang diperlukan. Model ini berhasil mencapai **recall tinggi (0.98)** untuk kelas *Malignant*, yang berarti hampir semua kasus kanker ganas berhasil terdeteksi.\n",
        "\n",
        "Di sisi lain, precision yang juga tinggi (0.98) menunjukkan bahwa sebagian besar prediksi *Malignant* oleh model memang benar, sehingga mengurangi kemungkinan **False Positives** yang dapat menyebabkan kekhawatiran dan prosedur medis yang tidak diperlukan.\n",
        "\n",
        "Dengan nilai **F1-Score sebesar 0.98** untuk kelas *Malignant*, model menunjukkan keseimbangan optimal antara kemampuan mendeteksi kanker (recall) dan keakuratan prediksi tersebut (precision).\n",
        "\n",
        "---\n",
        "\n",
        "**Kesimpulan:**\n",
        "\n",
        "Model Logistic Regression yang dikembangkan mampu memberikan kinerja yang sangat baik dan seimbang dalam konteks klasifikasi kanker payudara. Dengan kemampuan mendeteksi hampir semua kasus kanker ganas dan tingkat kesalahan yang sangat rendah, model ini dapat menjadi alat bantu pengambilan keputusan yang andal dalam praktik klinis."
      ],
      "metadata": {
        "id": "5RodKVuXXhhR"
      }
    },
    {
      "cell_type": "markdown",
      "source": [
        "## ==========================\n",
        "## 💾 Simpan Model dan Scale\n",
        "## ==========================\n",
        "\n",
        "**Penyimpanan Model dan Scaler**\n",
        "\n",
        "**Proses:**  \n",
        "Model *Logistic Regression* yang telah dilatih dan objek *StandardScaler* yang digunakan untuk normalisasi fitur disimpan ke dalam file `.pkl` menggunakan pustaka `joblib`.\n",
        "\n",
        "---\n",
        "\n",
        "**Tujuan:**  \n",
        "Penyimpanan model dan scaler ini memiliki beberapa manfaat penting:\n",
        "\n",
        "- **Efisiensi Waktu:**  \n",
        "  Kita tidak perlu melatih ulang model dari awal setiap kali ingin menggunakannya. Ini sangat berguna saat model digunakan berulang kali, baik untuk inferensi pada data baru maupun dalam proses deployment.\n",
        "\n",
        "- **Konsistensi Preprocessing:**  \n",
        "  Data baru yang akan diprediksi harus dinormalisasi menggunakan **rata-rata dan standar deviasi** yang sama seperti yang digunakan saat pelatihan. Oleh karena itu, objek `StandardScaler` juga disimpan agar dapat digunakan kembali untuk mentransformasi data baru secara konsisten.\n",
        "\n",
        "- **Deployment Model:**  \n",
        "  File `.pkl` dapat di-*load* di aplikasi berbasis web, API, atau lingkungan produksi lainnya untuk melakukan prediksi real-time tanpa memuat keseluruhan pipeline pelatihan.\n",
        "\n",
        "---\n",
        "\n",
        "**Catatan:**  \n",
        "Dalam implementasinya, proses penyimpanan ini dilakukan dengan menggunakan `joblib.dump()` dan hasilnya berupa dua file, misalnya:\n",
        "\n",
        "- `model_logreg.pkl` → berisi model Logistic Regression\n",
        "- `scaler.pkl` → berisi objek StandardScaler\n"
      ],
      "metadata": {
        "id": "jQ4r2NK7HKC6"
      }
    },
    {
      "cell_type": "code",
      "source": [
        "joblib.dump(model, 'logistic_regression_model.pkl')\n",
        "joblib.dump(scaler, 'scaler.pkl')\n",
        "print(\"\\nModel dan scaler telah disimpan.\")"
      ],
      "metadata": {
        "colab": {
          "base_uri": "https://localhost:8080/"
        },
        "id": "VIZ_v2m4GclW",
        "outputId": "c8e5a85e-53ec-4fd9-db68-47bfd13fd676"
      },
      "execution_count": null,
      "outputs": [
        {
          "output_type": "stream",
          "name": "stdout",
          "text": [
            "\n",
            "Model dan scaler telah disimpan.\n"
          ]
        }
      ]
    },
    {
      "cell_type": "markdown",
      "source": [
        "**Hasil:**  \n",
        "Dua file berhasil dibuat dan disimpan di direktori kerja sebagai hasil dari proses penyimpanan:\n",
        "\n",
        "- `logistic_regression_model.pkl` → berisi model Logistic Regression yang telah dilatih.\n",
        "- `scaler.pkl` → berisi objek StandardScaler yang digunakan untuk normalisasi fitur.\n",
        "\n",
        "Kedua file ini dapat digunakan kembali untuk melakukan prediksi pada data baru tanpa perlu mengulang proses pelatihan dan normalisasi, sehingga sangat berguna untuk keperluan deployment atau evaluasi lanjutan.\n"
      ],
      "metadata": {
        "id": "iOG6PLbrYAZW"
      }
    },
    {
      "cell_type": "markdown",
      "source": [
        "## ==========================\n",
        "## 🔍 Tes Model dengan Data Baru\n",
        "## ==========================\n",
        "Model yang disimpan digunakan kembali untuk memprediksi hasil diagnosis berdasarkan input data pasien baru. Tahap ini mensimulasikan bagaimana model akan digunakan dalam skenario dunia nyata untuk membuat prediksi pada data yang belum pernah dilihat sebelumnya."
      ],
      "metadata": {
        "id": "-G2rRU-zJEgG"
      }
    },
    {
      "cell_type": "markdown",
      "source": [
        "#### Menyiapkan Contoh Data Baru\n",
        "\n",
        "**Proses:**  \n",
        "Sebuah array NumPy bernama `new_data` dibuat yang berisi 30 fitur numerik. Nilai-nilai tersebut diambil sebagai contoh dari dataset asli (misalnya, baris pertama yang diketahui memiliki diagnosis 'Malignant') untuk mensimulasikan karakteristik sel dari massa payudara yang akan diprediksi.\n",
        "\n",
        "**Tujuan:**  \n",
        "Contoh data ini digunakan untuk menguji fungsionalitas model Logistic Regression yang telah disimpan sebelumnya, sekaligus memastikan bahwa pipeline prediksi bekerja dengan baik pada input baru yang menyerupai data dunia nyata.\n"
      ],
      "metadata": {
        "id": "6GAkgv_-YQN5"
      }
    },
    {
      "cell_type": "code",
      "source": [
        "# Contoh input (30 fitur dari dataset breast cancer)\n",
        "new_data = np.array([[17.99, 10.38, 122.8, 1001.0, 0.1184,\n",
        "                      0.2776, 0.3001, 0.1471, 0.2419, 0.07871,\n",
        "                      1.095, 0.9053, 8.589, 153.4, 0.006399,\n",
        "                      0.04904, 0.05373, 0.01587, 0.03003, 0.006193,\n",
        "                      25.38, 17.33, 184.6, 2019.0, 0.1622,\n",
        "                      0.6656, 0.7119, 0.2654, 0.4601, 0.1189]])"
      ],
      "metadata": {
        "id": "5XRjtHRBHTXm"
      },
      "execution_count": null,
      "outputs": []
    },
    {
      "cell_type": "markdown",
      "source": [
        "#### Memuat Model dan Scaler yang Tersimpan\n",
        "\n",
        "**Proses:**  \n",
        "Model (`logistic_regression_model.pkl`) dan objek scaler (`scaler.pkl`) yang telah disimpan sebelumnya dimuat kembali ke dalam memori menggunakan `joblib.load()`.\n",
        "\n",
        "**Alasan:**  \n",
        "Ini adalah praktik standar dalam machine learning untuk memanfaatkan model terlatih tanpa harus mengulang seluruh proses pelatihan yang memakan waktu. Dengan memuat model dan scaler, kita dapat langsung melakukan prediksi terhadap data baru dengan efisien dan konsisten."
      ],
      "metadata": {
        "id": "hUaXOqDSYWAs"
      }
    },
    {
      "cell_type": "code",
      "source": [
        "# Load model dan scaler\n",
        "loaded_model = joblib.load('logistic_regression_model.pkl')\n",
        "loaded_scaler = joblib.load('scaler.pkl')"
      ],
      "metadata": {
        "id": "FjXH7dpZJRuh"
      },
      "execution_count": null,
      "outputs": []
    },
    {
      "cell_type": "markdown",
      "source": [
        "#### Preprocessing Data Baru dan Membuat Prediksi\n",
        "\n",
        "**Proses:**  \n",
        "Data baru (`new_data`) pertama-tama diskalakan menggunakan `loaded_scaler` agar fitur-fiturnya berada dalam skala yang sama seperti data pelatihan. Setelah itu, `loaded_model` digunakan untuk melakukan prediksi kelas (`prediction`) dan menghitung probabilitas keanggotaan kelas (`probability`) dari data yang telah diskalakan.\n",
        "\n",
        "**Alasan:**  \n",
        "Penting untuk menerapkan preprocessing yang sama—dalam hal ini normalisasi—pada data baru sebagaimana dilakukan pada data pelatihan. Hal ini menjamin bahwa input ke model tetap konsisten dalam hal distribusi nilai, sehingga prediksi yang dihasilkan tetap akurat dan sesuai dengan performa model saat dilatih.\n"
      ],
      "metadata": {
        "id": "4i4A_T4ZYeyg"
      }
    },
    {
      "cell_type": "code",
      "source": [
        "# Preprocess dan prediksi\n",
        "new_data_scaled = loaded_scaler.transform(new_data)\n",
        "prediction = loaded_model.predict(new_data_scaled)\n",
        "probability = loaded_model.predict_proba(new_data_scaled)"
      ],
      "metadata": {
        "id": "ZN13CwhTJTdE",
        "outputId": "33d64138-cbf8-45f8-9359-60e7f14f70e2",
        "colab": {
          "base_uri": "https://localhost:8080/"
        }
      },
      "execution_count": null,
      "outputs": [
        {
          "output_type": "stream",
          "name": "stderr",
          "text": [
            "/usr/local/lib/python3.11/dist-packages/sklearn/utils/validation.py:2739: UserWarning: X does not have valid feature names, but StandardScaler was fitted with feature names\n",
            "  warnings.warn(\n"
          ]
        }
      ]
    },
    {
      "cell_type": "markdown",
      "source": [
        "#### Menampilkan Hasil Prediksi\n",
        "\n",
        "**Proses:**  \n",
        "Hasil prediksi (`prediction`) dan probabilitas (`probability`) ditampilkan dalam format yang mudah dimengerti dengan mengkonversi label numerik (0 atau 1) kembali menjadi label kategori ('Malignant' atau 'Benign').\n",
        "\n",
        "**Insight:**  \n",
        "Untuk contoh `new_data` yang diberikan, model memprediksi **Malignant** dengan probabilitas yang sangat tinggi untuk kelas 'Malignant' (mendekati 1.0) dan probabilitas yang sangat rendah untuk kelas 'Benign'. Hal ini menunjukkan bahwa model sangat yakin dengan prediksinya, yang merupakan indikator kepercayaan tinggi terhadap diagnosis pada data tersebut.\n"
      ],
      "metadata": {
        "id": "edb3VFxzYnWv"
      }
    },
    {
      "cell_type": "code",
      "source": [
        "label = 'Benign' if prediction[0] == 1 else 'Malignant'\n",
        "print(f\"\\nPrediksi Data Baru: {label}\")\n",
        "print(f\"Probabilitas (Malignant vs Benign): {probability}\")"
      ],
      "metadata": {
        "id": "fBCh4CWBJU1c",
        "outputId": "b9ceed17-0414-4cdb-934c-a6e3bdafa48c",
        "colab": {
          "base_uri": "https://localhost:8080/"
        }
      },
      "execution_count": null,
      "outputs": [
        {
          "output_type": "stream",
          "name": "stdout",
          "text": [
            "\n",
            "Prediksi Data Baru: Malignant\n",
            "Probabilitas (Malignant vs Benign): [[9.99999998e-01 1.51999871e-09]]\n"
          ]
        }
      ]
    }
  ]
}